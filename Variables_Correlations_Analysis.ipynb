{
 "cells": [
  {
   "cell_type": "code",
   "execution_count": 1,
   "id": "a8471426-96a7-411b-8a5f-1450cefafeae",
   "metadata": {},
   "outputs": [
    {
     "data": {
      "text/plain": [
       "395"
      ]
     },
     "execution_count": 1,
     "metadata": {},
     "output_type": "execute_result"
    }
   ],
   "source": [
    "# Re-import the data after kernel reset\n",
    "import pandas as pd\n",
    "\n",
    "# Reload the file\n",
    "file_path = r\"D:\\Users\\lenovo\\Desktop\\VA_Data\\2011_cleaned.csv\"\n",
    "df_2011 = pd.read_csv(file_path)\n",
    "\n",
    "# Select housing percentage columns\n",
    "housing_pct_cols = [\n",
    "    'pct_detached',\n",
    "    'pct_semi',\n",
    "    'pct_terraced',\n",
    "    'pct_flat_built',\n",
    "    'pct_flat_converted',\n",
    "    'pct_flat_commercial',\n",
    "    'pct_mobile_home',\n",
    "    'avg_household_size',\n",
    "    'avg_rooms',\n",
    "    'avg_bedrooms'\n",
    "]\n",
    "\n",
    "# Calculate row-wise total of these percentages\n",
    "df_2011['housing_type_pct_total'] = df_2011[housing_pct_cols].sum(axis=1)\n",
    "\n",
    "# Check descriptive stats and count where the sum != 100 (rounded to 1 decimal)\n",
    "summary_stats = df_2011['housing_type_pct_total'].describe()\n",
    "not_100_count = (df_2011['housing_type_pct_total'].round(1) != 100).sum()\n",
    "\n",
    "not_100_count\n"
   ]
  },
  {
   "cell_type": "code",
   "execution_count": 2,
   "id": "bb94cc68-8062-442b-8f65-d5b5e3b1fdd4",
   "metadata": {},
   "outputs": [
    {
     "data": {
      "text/plain": [
       "count    395.000000\n",
       "mean     110.649620\n",
       "std        0.665021\n",
       "min      106.600000\n",
       "25%      110.300000\n",
       "50%      110.700000\n",
       "75%      111.100000\n",
       "max      112.100000\n",
       "Name: housing_type_pct_total, dtype: float64"
      ]
     },
     "execution_count": 2,
     "metadata": {},
     "output_type": "execute_result"
    }
   ],
   "source": [
    "summary_stats"
   ]
  },
  {
   "cell_type": "markdown",
   "id": "913789cd-02ea-4c1e-8a90-95b9ac966d11",
   "metadata": {},
   "source": [
    "Compute the correlations of housing variables with health index norm"
   ]
  },
  {
   "cell_type": "code",
   "execution_count": 5,
   "id": "b5d712b3-1e6b-4d5d-b971-0d907821d6e9",
   "metadata": {},
   "outputs": [
    {
     "data": {
      "text/plain": [
       "pct_semi                -0.357740\n",
       "pct_flat_built           0.342434\n",
       "avg_household_size       0.302508\n",
       "pct_overcrowded_rooms    0.285096\n",
       "pct_terraced            -0.275570\n",
       "pct_flat_converted       0.196677\n",
       "pct_flat_commercial      0.182503\n",
       "pct_overcrowded_beds     0.173796\n",
       "avg_bedrooms             0.139903\n",
       "pct_occupied             0.127394\n",
       "avg_rooms                0.097234\n",
       "pct_heated               0.065642\n",
       "pct_detached             0.050924\n",
       "pct_mobile_home          0.034719\n",
       "Name: health_index, dtype: float64"
      ]
     },
     "execution_count": 5,
     "metadata": {},
     "output_type": "execute_result"
    }
   ],
   "source": [
    "# Filter housing percentage columns only\n",
    "housing_pct_cols = [\n",
    "    'pct_detached',\n",
    "    'pct_semi',\n",
    "    'pct_terraced',\n",
    "    'pct_flat_built',\n",
    "    'pct_flat_converted',\n",
    "    'pct_flat_commercial',\n",
    "    'pct_mobile_home',\n",
    "    'pct_occupied',\n",
    "    'pct_heated',\n",
    "    'pct_overcrowded_rooms',\n",
    "    'pct_overcrowded_beds',\n",
    "    'avg_household_size',\n",
    "    'avg_rooms',\n",
    "    'avg_bedrooms'\n",
    "]\n",
    "\n",
    "# Select health index as the target for correlation\n",
    "health_target = 'health_index'\n",
    "\n",
    "# Compute Pearson correlation between housing variables and health index\n",
    "correlations = df_2011[housing_pct_cols + [health_target]].corr()[health_target].drop(health_target).sort_values(key=abs, ascending=False)\n",
    "\n",
    "correlations\n"
   ]
  },
  {
   "cell_type": "code",
   "execution_count": 9,
   "id": "e4024e50-abfc-4138-9437-9118e7310fa5",
   "metadata": {},
   "outputs": [
    {
     "name": "stdout",
     "output_type": "stream",
     "text": [
      "Correlations data saved as housing_health_correlation.csv\n"
     ]
    }
   ],
   "source": [
    "import pandas as pd\n",
    "\n",
    "# Read data\n",
    "df = pd.read_csv(r\"D:\\Users\\lenovo\\Desktop\\VA_Data\\2011_cleaned.csv\")\n",
    "\n",
    "# Housing variables\n",
    "housing_pct_cols = [\n",
    "    'pct_detached',\n",
    "    'pct_semi',\n",
    "    'pct_terraced',\n",
    "    'pct_flat_built',\n",
    "    'pct_flat_converted',\n",
    "    'pct_flat_commercial',\n",
    "    'pct_mobile_home',\n",
    "    'pct_occupied',\n",
    "    'pct_heated',\n",
    "    'pct_overcrowded_rooms',\n",
    "    'pct_overcrowded_beds',\n",
    "    'avg_household_size',\n",
    "    'avg_rooms',\n",
    "    'avg_bedrooms'\n",
    "]\n",
    "\n",
    "# Target health variable\n",
    "health_target = 'health_index'\n",
    "\n",
    "# Calculate the correlation coefficient（Pearson）\n",
    "correlation_series = df[housing_pct_cols + [health_target]].corr()[health_target].drop(health_target)\n",
    "correlation_df = correlation_series.reset_index()\n",
    "correlation_df.columns = ['Housing_Variable', 'Correlation_with_Health_Index']\n",
    "\n",
    "# Sort (by absolute value)\n",
    "correlation_df['Abs_Correlation'] = correlation_df['Correlation_with_Health_Index'].abs()\n",
    "correlation_df = correlation_df.sort_values(by='Abs_Correlation', ascending=False).drop(columns='Abs_Correlation')\n",
    "\n",
    "# Save as CSV\n",
    "correlation_df.to_csv(r\"D:\\Users\\lenovo\\Desktop\\VA_Data\\housing_health_correlation.csv\", index=False)\n",
    "\n",
    "print(\"Correlations data saved as housing_health_correlation.csv\")\n"
   ]
  },
  {
   "cell_type": "code",
   "execution_count": null,
   "id": "ce2e1ff4-b02e-4025-ad32-b9872ff21ff1",
   "metadata": {},
   "outputs": [],
   "source": []
  }
 ],
 "metadata": {
  "kernelspec": {
   "display_name": "Python (NLP Env)",
   "language": "python",
   "name": "nlp_env"
  },
  "language_info": {
   "codemirror_mode": {
    "name": "ipython",
    "version": 3
   },
   "file_extension": ".py",
   "mimetype": "text/x-python",
   "name": "python",
   "nbconvert_exporter": "python",
   "pygments_lexer": "ipython3",
   "version": "3.10.16"
  }
 },
 "nbformat": 4,
 "nbformat_minor": 5
}
